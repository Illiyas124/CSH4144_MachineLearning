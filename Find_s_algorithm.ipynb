{
 "cells": [
  {
   "cell_type": "code",
   "execution_count": 35,
   "id": "80fa164e",
   "metadata": {},
   "outputs": [],
   "source": [
    "import matplotlib.pyplot as plt\n",
    "import numpy as np\n",
    "import pandas as pd\n",
    "import sklearn.linear_model"
   ]
  },
  {
   "cell_type": "code",
   "execution_count": 36,
   "id": "f36e989e",
   "metadata": {},
   "outputs": [],
   "source": [
    "df = pd.read_csv('Find_s.csv')"
   ]
  },
  {
   "cell_type": "code",
   "execution_count": 37,
   "id": "ba090e22",
   "metadata": {},
   "outputs": [
    {
     "data": {
      "text/html": [
       "<div>\n",
       "<style scoped>\n",
       "    .dataframe tbody tr th:only-of-type {\n",
       "        vertical-align: middle;\n",
       "    }\n",
       "\n",
       "    .dataframe tbody tr th {\n",
       "        vertical-align: top;\n",
       "    }\n",
       "\n",
       "    .dataframe thead th {\n",
       "        text-align: right;\n",
       "    }\n",
       "</style>\n",
       "<table border=\"1\" class=\"dataframe\">\n",
       "  <thead>\n",
       "    <tr style=\"text-align: right;\">\n",
       "      <th></th>\n",
       "      <th>Time</th>\n",
       "      <th>Weather</th>\n",
       "      <th>Temparature</th>\n",
       "      <th>Company</th>\n",
       "      <th>Humidity</th>\n",
       "      <th>Wind</th>\n",
       "      <th>Goes</th>\n",
       "    </tr>\n",
       "  </thead>\n",
       "  <tbody>\n",
       "    <tr>\n",
       "      <th>0</th>\n",
       "      <td>Morning</td>\n",
       "      <td>Sunny</td>\n",
       "      <td>Warm</td>\n",
       "      <td>Yes</td>\n",
       "      <td>Mild</td>\n",
       "      <td>Strong</td>\n",
       "      <td>Yes</td>\n",
       "    </tr>\n",
       "    <tr>\n",
       "      <th>1</th>\n",
       "      <td>Evening</td>\n",
       "      <td>Rainy</td>\n",
       "      <td>Cold</td>\n",
       "      <td>No</td>\n",
       "      <td>Mild</td>\n",
       "      <td>Normal</td>\n",
       "      <td>No</td>\n",
       "    </tr>\n",
       "    <tr>\n",
       "      <th>2</th>\n",
       "      <td>Morning</td>\n",
       "      <td>Sunny</td>\n",
       "      <td>Moderate</td>\n",
       "      <td>Yes</td>\n",
       "      <td>Normal</td>\n",
       "      <td>Normal</td>\n",
       "      <td>Yes</td>\n",
       "    </tr>\n",
       "    <tr>\n",
       "      <th>3</th>\n",
       "      <td>Evening</td>\n",
       "      <td>Sunny</td>\n",
       "      <td>Cold</td>\n",
       "      <td>Yes</td>\n",
       "      <td>High</td>\n",
       "      <td>Strong</td>\n",
       "      <td>Yes</td>\n",
       "    </tr>\n",
       "  </tbody>\n",
       "</table>\n",
       "</div>"
      ],
      "text/plain": [
       "      Time Weather Temparature Company Humidity    Wind Goes\n",
       "0  Morning   Sunny        Warm     Yes     Mild  Strong  Yes\n",
       "1  Evening   Rainy        Cold      No     Mild  Normal   No\n",
       "2  Morning   Sunny    Moderate     Yes   Normal  Normal  Yes\n",
       "3  Evening   Sunny        Cold     Yes     High  Strong  Yes"
      ]
     },
     "execution_count": 37,
     "metadata": {},
     "output_type": "execute_result"
    }
   ],
   "source": [
    "df"
   ]
  },
  {
   "cell_type": "code",
   "execution_count": 38,
   "id": "1710faf4",
   "metadata": {},
   "outputs": [],
   "source": [
    "# Extract concepts and target\n",
    "concepts = df.iloc[:, :-1].values\n",
    "target = df.iloc[:, -1].values"
   ]
  },
  {
   "cell_type": "code",
   "execution_count": 41,
   "id": "3e884310",
   "metadata": {},
   "outputs": [
    {
     "data": {
      "text/plain": [
       "array([['Morning', 'Sunny', 'Warm', 'Yes', 'Mild', 'Strong'],\n",
       "       ['Evening', 'Rainy', 'Cold', 'No', 'Mild', 'Normal'],\n",
       "       ['Morning', 'Sunny', 'Moderate', 'Yes', 'Normal', 'Normal'],\n",
       "       ['Evening', 'Sunny', 'Cold', 'Yes', 'High', 'Strong']],\n",
       "      dtype=object)"
      ]
     },
     "execution_count": 41,
     "metadata": {},
     "output_type": "execute_result"
    }
   ],
   "source": [
    "concepts"
   ]
  },
  {
   "cell_type": "code",
   "execution_count": 42,
   "id": "22cc03ec",
   "metadata": {},
   "outputs": [
    {
     "data": {
      "text/plain": [
       "array(['Yes', 'No', 'Yes', 'Yes'], dtype=object)"
      ]
     },
     "execution_count": 42,
     "metadata": {},
     "output_type": "execute_result"
    }
   ],
   "source": [
    "target"
   ]
  },
  {
   "cell_type": "code",
   "execution_count": 39,
   "id": "447bc0c1",
   "metadata": {},
   "outputs": [],
   "source": [
    "# Initialize hypothesis\n",
    "hypothesis = ['0'] * len(concepts[0])\n"
   ]
  },
  {
   "cell_type": "code",
   "execution_count": null,
   "id": "04da0525",
   "metadata": {
    "scrolled": true
   },
   "outputs": [
    {
     "name": "stdout",
     "output_type": "stream",
     "text": [
      "Final Hypothesis: ['?', 'Sunny', '?', 'Yes', '?', '?']\n"
     ]
    }
   ],
   "source": [
    "# Find-S algorithm\n",
    "def find_s(concepts, target):\n",
    "    hypothesis = ['0'] * len(concepts[0])  # Initialize with most specific hypothesis\n",
    "\n",
    "    for i, val in enumerate(target):\n",
    "        if val.strip().lower() == \"yes\":  # Positive training example\n",
    "            for x in range(len(hypothesis)):\n",
    "                if hypothesis[x] == '0':\n",
    "                    hypothesis[x] = concepts[i][x]\n",
    "                elif hypothesis[x] != concepts[i][x]:\n",
    "                    hypothesis[x] = '?'\n",
    "    return hypothesis\n"
   ]
  },
  {
   "cell_type": "code",
   "execution_count": null,
   "id": "e97de469",
   "metadata": {},
   "outputs": [],
   "source": []
  }
 ],
 "metadata": {
  "kernelspec": {
   "display_name": "Python 3 (ipykernel)",
   "language": "python",
   "name": "python3"
  },
  "language_info": {
   "codemirror_mode": {
    "name": "ipython",
    "version": 3
   },
   "file_extension": ".py",
   "mimetype": "text/x-python",
   "name": "python",
   "nbconvert_exporter": "python",
   "pygments_lexer": "ipython3",
   "version": "3.9.13"
  }
 },
 "nbformat": 4,
 "nbformat_minor": 5
}
