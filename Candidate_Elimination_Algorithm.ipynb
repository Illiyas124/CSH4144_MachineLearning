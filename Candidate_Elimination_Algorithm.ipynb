{
 "cells": [
  {
   "cell_type": "code",
   "execution_count": 20,
   "id": "4b43cdb1",
   "metadata": {},
   "outputs": [],
   "source": [
    "import matplotlib.pyplot as plt\n",
    "import numpy as np\n",
    "import pandas as pd\n",
    "import sklearn.linear_model"
   ]
  },
  {
   "cell_type": "code",
   "execution_count": 21,
   "id": "1e9a25fd",
   "metadata": {},
   "outputs": [
    {
     "data": {
      "text/html": [
       "<div>\n",
       "<style scoped>\n",
       "    .dataframe tbody tr th:only-of-type {\n",
       "        vertical-align: middle;\n",
       "    }\n",
       "\n",
       "    .dataframe tbody tr th {\n",
       "        vertical-align: top;\n",
       "    }\n",
       "\n",
       "    .dataframe thead th {\n",
       "        text-align: right;\n",
       "    }\n",
       "</style>\n",
       "<table border=\"1\" class=\"dataframe\">\n",
       "  <thead>\n",
       "    <tr style=\"text-align: right;\">\n",
       "      <th></th>\n",
       "      <th>Time</th>\n",
       "      <th>Weather</th>\n",
       "      <th>Temparature</th>\n",
       "      <th>Company</th>\n",
       "      <th>Humidity</th>\n",
       "      <th>Wind</th>\n",
       "      <th>Goes</th>\n",
       "    </tr>\n",
       "  </thead>\n",
       "  <tbody>\n",
       "    <tr>\n",
       "      <th>0</th>\n",
       "      <td>Morning</td>\n",
       "      <td>Sunny</td>\n",
       "      <td>Warm</td>\n",
       "      <td>Yes</td>\n",
       "      <td>Mild</td>\n",
       "      <td>Strong</td>\n",
       "      <td>Yes</td>\n",
       "    </tr>\n",
       "    <tr>\n",
       "      <th>1</th>\n",
       "      <td>Evening</td>\n",
       "      <td>Rainy</td>\n",
       "      <td>Cold</td>\n",
       "      <td>No</td>\n",
       "      <td>Mild</td>\n",
       "      <td>Normal</td>\n",
       "      <td>No</td>\n",
       "    </tr>\n",
       "    <tr>\n",
       "      <th>2</th>\n",
       "      <td>Morning</td>\n",
       "      <td>Sunny</td>\n",
       "      <td>Moderate</td>\n",
       "      <td>Yes</td>\n",
       "      <td>Normal</td>\n",
       "      <td>Normal</td>\n",
       "      <td>Yes</td>\n",
       "    </tr>\n",
       "    <tr>\n",
       "      <th>3</th>\n",
       "      <td>Evening</td>\n",
       "      <td>Sunny</td>\n",
       "      <td>Cold</td>\n",
       "      <td>Yes</td>\n",
       "      <td>High</td>\n",
       "      <td>Strong</td>\n",
       "      <td>Yes</td>\n",
       "    </tr>\n",
       "  </tbody>\n",
       "</table>\n",
       "</div>"
      ],
      "text/plain": [
       "      Time Weather Temparature Company Humidity    Wind Goes\n",
       "0  Morning   Sunny        Warm     Yes     Mild  Strong  Yes\n",
       "1  Evening   Rainy        Cold      No     Mild  Normal   No\n",
       "2  Morning   Sunny    Moderate     Yes   Normal  Normal  Yes\n",
       "3  Evening   Sunny        Cold     Yes     High  Strong  Yes"
      ]
     },
     "execution_count": 21,
     "metadata": {},
     "output_type": "execute_result"
    }
   ],
   "source": [
    "df = pd.read_csv('Find_s.csv')\n",
    "df"
   ]
  },
  {
   "cell_type": "code",
   "execution_count": 22,
   "id": "0ce0f26f",
   "metadata": {},
   "outputs": [],
   "source": [
    "# Extract concepts and target\n",
    "concepts = df.iloc[:, :-1].values\n",
    "target = df.iloc[:, -1].values"
   ]
  },
  {
   "cell_type": "code",
   "execution_count": 23,
   "id": "31a4314b",
   "metadata": {},
   "outputs": [],
   "source": [
    "# Initialize hypothesis\n",
    "spec_hypothesis = concepts[0].copy()\n",
    "general_hypothesis = np.array([['?' for _ in range(len(spec_hypothesis))] for _ in range(len(spec_hypothesis))])"
   ]
  },
  {
   "cell_type": "code",
   "execution_count": 24,
   "id": "33115bc3",
   "metadata": {},
   "outputs": [
    {
     "data": {
      "text/plain": [
       "array(['Morning', 'Sunny', 'Warm', 'Yes', 'Mild', 'Strong'], dtype=object)"
      ]
     },
     "execution_count": 24,
     "metadata": {},
     "output_type": "execute_result"
    }
   ],
   "source": [
    "spec_hypothesis"
   ]
  },
  {
   "cell_type": "code",
   "execution_count": 25,
   "id": "5d9223f9",
   "metadata": {},
   "outputs": [
    {
     "data": {
      "text/plain": [
       "['0', '0', '0', '0', '0', '0']"
      ]
     },
     "execution_count": 25,
     "metadata": {},
     "output_type": "execute_result"
    }
   ],
   "source": [
    "gen_hypothesis"
   ]
  },
  {
   "cell_type": "code",
   "execution_count": 19,
   "id": "a2967b1d",
   "metadata": {},
   "outputs": [
    {
     "name": "stdout",
     "output_type": "stream",
     "text": [
      "Final Specific Hypothesis (S): ['?' 'Sunny' '?' 'Yes' '?' '?']\n",
      "Final General Hypotheses (G): [['?', 'Sunny', '?', '?', '?', '?'], ['?', '?', '?', 'Yes', '?', '?']]\n"
     ]
    }
   ],
   "source": [
    "import pandas as pd\n",
    "import numpy as np\n",
    "\n",
    "# Load dataset\n",
    "data = pd.read_csv('Find_s.csv')\n",
    "\n",
    "# Separate features and target\n",
    "features = data.iloc[:, :-1].values\n",
    "target = data.iloc[:, -1].values\n",
    "\n",
    "# Initialize S and G\n",
    "S = features[0].copy()\n",
    "G = [['?' for _ in range(len(S))]]\n",
    "\n",
    "# Helper function to check consistency\n",
    "def is_consistent(hypothesis, instance):\n",
    "    return all(h == '?' or h == val for h, val in zip(hypothesis, instance))\n",
    "\n",
    "# Candidate Elimination Algorithm\n",
    "for i, instance in enumerate(features):\n",
    "    if target[i] == 'Yes':\n",
    "        # Remove inconsistent hypotheses from G\n",
    "        G = [g for g in G if is_consistent(g, instance)]\n",
    "        # Generalize S\n",
    "        for j in range(len(S)):\n",
    "            if S[j] != instance[j]:\n",
    "                S[j] = '?'\n",
    "    else:\n",
    "        # Specialize G\n",
    "        new_G = []\n",
    "        for g in G:\n",
    "            if is_consistent(g, instance):\n",
    "                for j in range(len(g)):\n",
    "                    if g[j] == '?':\n",
    "                        if S[j] != '?':\n",
    "                            new_hypothesis = g.copy()\n",
    "                            new_hypothesis[j] = S[j]\n",
    "                            new_G.append(new_hypothesis)\n",
    "        G = new_G\n",
    "\n",
    "# Remove duplicates\n",
    "G = [list(h) for h in G if any(attr != '?' for attr in h)]\n",
    "\n",
    "# Output final hypotheses\n",
    "print(\"Final Specific Hypothesis (S):\", S)\n",
    "print(\"Final General Hypotheses (G):\", G)"
   ]
  }
 ],
 "metadata": {
  "kernelspec": {
   "display_name": "Python 3 (ipykernel)",
   "language": "python",
   "name": "python3"
  },
  "language_info": {
   "codemirror_mode": {
    "name": "ipython",
    "version": 3
   },
   "file_extension": ".py",
   "mimetype": "text/x-python",
   "name": "python",
   "nbconvert_exporter": "python",
   "pygments_lexer": "ipython3",
   "version": "3.9.13"
  }
 },
 "nbformat": 4,
 "nbformat_minor": 5
}
