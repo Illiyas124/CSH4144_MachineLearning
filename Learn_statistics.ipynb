{
 "cells": [
  {
   "cell_type": "code",
   "execution_count": 13,
   "id": "14ed5672",
   "metadata": {},
   "outputs": [
    {
     "name": "stdout",
     "output_type": "stream",
     "text": [
      "Median : 5\n",
      "Standed deviation : 2.7386127875258306\n",
      "Mean : 5\n",
      "Mode : 1\n"
     ]
    }
   ],
   "source": [
    "from statistics import median,mode,stdev,mean\n",
    "data = [1,2,3,4,5,6,7,8,9]\n",
    "result = median(data)\n",
    "print(\"Median :\", result)\n",
    "\n",
    "result = stdev(data)\n",
    "print(\"Standed deviation :\",result)\n",
    "\n",
    "result = mean(data)\n",
    "print(\"Mean :\",result)\n",
    "\n",
    "result = mode(data)\n",
    "print(\"Mode :\",result)"
   ]
  },
  {
   "cell_type": "code",
   "execution_count": 8,
   "id": "c2f81340",
   "metadata": {},
   "outputs": [],
   "source": [
    "from statistics import median\n",
    "from math import isnan\n",
    "from itertools import filterfalse\n",
    "\n",
    "data = [20.7, float('NaN'),19.2, 18.3, float('NaN'), 14.4]"
   ]
  },
  {
   "cell_type": "code",
   "execution_count": 2,
   "id": "c2fd8874",
   "metadata": {},
   "outputs": [
    {
     "data": {
      "text/plain": [
       "[20.7, nan, 14.4, 18.3, 19.2, nan]"
      ]
     },
     "execution_count": 2,
     "metadata": {},
     "output_type": "execute_result"
    }
   ],
   "source": [
    "sorted(data)"
   ]
  },
  {
   "cell_type": "code",
   "execution_count": 3,
   "id": "b86ba470-0111-44c5-a42d-64bd7d951646",
   "metadata": {},
   "outputs": [
    {
     "data": {
      "text/plain": [
       "16.35"
      ]
     },
     "execution_count": 3,
     "metadata": {},
     "output_type": "execute_result"
    }
   ],
   "source": [
    "median(data)"
   ]
  },
  {
   "cell_type": "code",
   "execution_count": 4,
   "id": "5be0375e-6254-44a5-a18b-915ecb4d7491",
   "metadata": {},
   "outputs": [
    {
     "data": {
      "text/plain": [
       "2"
      ]
     },
     "execution_count": 4,
     "metadata": {},
     "output_type": "execute_result"
    }
   ],
   "source": [
    "sum(map(isnan, data))    # Number of missing values"
   ]
  },
  {
   "cell_type": "code",
   "execution_count": 5,
   "id": "0dd1a3d6-f964-4905-866d-07dd7b89e584",
   "metadata": {},
   "outputs": [
    {
     "data": {
      "text/plain": [
       "[20.7, 19.2, 18.3, 14.4]"
      ]
     },
     "execution_count": 5,
     "metadata": {},
     "output_type": "execute_result"
    }
   ],
   "source": [
    "clean = list(filterfalse(isnan, data))  # Strip NaN values\n",
    "clean"
   ]
  },
  {
   "cell_type": "code",
   "execution_count": 6,
   "id": "b23fb394-eb06-4688-a5d8-7236acfb9925",
   "metadata": {},
   "outputs": [
    {
     "data": {
      "text/plain": [
       "[14.4, 18.3, 19.2, 20.7]"
      ]
     },
     "execution_count": 6,
     "metadata": {},
     "output_type": "execute_result"
    }
   ],
   "source": [
    "sorted(clean)"
   ]
  },
  {
   "cell_type": "code",
   "execution_count": 7,
   "id": "1ac68592-7487-44e2-bd83-ac05b32b6021",
   "metadata": {},
   "outputs": [
    {
     "data": {
      "text/plain": [
       "18.75"
      ]
     },
     "execution_count": 7,
     "metadata": {},
     "output_type": "execute_result"
    }
   ],
   "source": [
    "median(clean)"
   ]
  },
  {
   "cell_type": "code",
   "execution_count": null,
   "id": "e7a9e90e-0298-47b1-bd8e-a3431a94e2a5",
   "metadata": {},
   "outputs": [],
   "source": []
  }
 ],
 "metadata": {
  "kernelspec": {
   "display_name": "Python 3 (ipykernel)",
   "language": "python",
   "name": "python3"
  },
  "language_info": {
   "codemirror_mode": {
    "name": "ipython",
    "version": 3
   },
   "file_extension": ".py",
   "mimetype": "text/x-python",
   "name": "python",
   "nbconvert_exporter": "python",
   "pygments_lexer": "ipython3",
   "version": "3.12.7"
  }
 },
 "nbformat": 4,
 "nbformat_minor": 5
}
