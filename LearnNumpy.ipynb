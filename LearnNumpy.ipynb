{
 "cells": [
  {
   "cell_type": "markdown",
   "id": "9825a98e",
   "metadata": {},
   "source": [
    "# Practical Day2"
   ]
  },
  {
   "cell_type": "code",
   "execution_count": 1,
   "id": "6e68a71f",
   "metadata": {},
   "outputs": [],
   "source": [
    "import numpy as np\n",
    "x = np.array([1,2,3,4,5])"
   ]
  },
  {
   "cell_type": "code",
   "execution_count": 2,
   "id": "989c1caa",
   "metadata": {},
   "outputs": [
    {
     "name": "stdout",
     "output_type": "stream",
     "text": [
      "[1 2 3 4 5]\n"
     ]
    }
   ],
   "source": [
    "print(x)"
   ]
  },
  {
   "cell_type": "code",
   "execution_count": 4,
   "id": "09a80fbd",
   "metadata": {},
   "outputs": [],
   "source": [
    "m = np.array([[1,5,2],\n",
    "            [4,7,4],\n",
    "            [2,0,9]])"
   ]
  },
  {
   "cell_type": "code",
   "execution_count": 5,
   "id": "8cde8e2a",
   "metadata": {},
   "outputs": [
    {
     "name": "stdout",
     "output_type": "stream",
     "text": [
      "[[1 5 2]\n",
      " [4 7 4]\n",
      " [2 0 9]]\n"
     ]
    }
   ],
   "source": [
    "print(m)"
   ]
  },
  {
   "cell_type": "code",
   "execution_count": 9,
   "id": "979cd5e1",
   "metadata": {},
   "outputs": [
    {
     "name": "stdout",
     "output_type": "stream",
     "text": [
      "Matrix Transpose:\n",
      " [[1 4 2]\n",
      " [5 7 0]\n",
      " [2 4 9]]\n"
     ]
    }
   ],
   "source": [
    "print('Matrix Transpose:\\n',m.transpose())"
   ]
  },
  {
   "cell_type": "code",
   "execution_count": 10,
   "id": "b40f7744",
   "metadata": {},
   "outputs": [
    {
     "name": "stdout",
     "output_type": "stream",
     "text": [
      "Matrix Determinant -105.00000000000006\n"
     ]
    }
   ],
   "source": [
    "print('Matrix Determinant',np.linalg.det(m)) #linear algebra determinant"
   ]
  },
  {
   "cell_type": "code",
   "execution_count": 13,
   "id": "db0db9fe",
   "metadata": {},
   "outputs": [
    {
     "name": "stdout",
     "output_type": "stream",
     "text": [
      "Matrix inverse\n",
      " [[-0.6         0.42857143 -0.05714286]\n",
      " [ 0.26666667 -0.04761905 -0.03809524]\n",
      " [ 0.13333333 -0.0952381   0.12380952]]\n"
     ]
    }
   ],
   "source": [
    "m_inv = np.linalg.inv(m)\n",
    "print('Matrix inverse\\n',m_inv)"
   ]
  },
  {
   "cell_type": "code",
   "execution_count": 20,
   "id": "fc38f6d1",
   "metadata": {},
   "outputs": [
    {
     "name": "stdout",
     "output_type": "stream",
     "text": [
      "Identical of matrix\n",
      " [[ 1.00000000e+00 -8.32667268e-17  5.55111512e-17]\n",
      " [ 1.11022302e-16  1.00000000e+00  0.00000000e+00]\n",
      " [ 2.77555756e-17 -1.38777878e-17  1.00000000e+00]]\n"
     ]
    }
   ],
   "source": [
    "iden_m = np.dot(m,m_inv)\n",
    "print('Identical of matrix\\n',iden_m)"
   ]
  },
  {
   "cell_type": "code",
   "execution_count": 16,
   "id": "6de0a7a8",
   "metadata": {},
   "outputs": [],
   "source": [
    "iden_m_r = np.round(np.abs(iden_m),0)"
   ]
  },
  {
   "cell_type": "code",
   "execution_count": 19,
   "id": "b6e0ef4a",
   "metadata": {},
   "outputs": [
    {
     "name": "stdout",
     "output_type": "stream",
     "text": [
      "Round the values of product matrix\n",
      " [[1. 0. 0.]\n",
      " [0. 1. 0.]\n",
      " [0. 0. 1.]]\n"
     ]
    }
   ],
   "source": [
    "print('Round the values of matrix\\n',iden_m_r)"
   ]
  },
  {
   "cell_type": "code",
   "execution_count": 24,
   "id": "b4fb0b3f",
   "metadata": {},
   "outputs": [
    {
     "name": "stdout",
     "output_type": "stream",
     "text": [
      "Eigen values\n",
      " [-1.32455532 11.32455532  7.        ] \n",
      "\n",
      "Eigen vectors\n",
      " [[-0.91761521  0.46120352 -0.46829291]\n",
      " [ 0.35550789  0.79362022 -0.74926865]\n",
      " [ 0.17775394  0.39681011  0.46829291]]\n"
     ]
    }
   ],
   "source": [
    "eigen_vals,eigen_vecs  = np.linalg.eig(m)\n",
    "print('Eigen values\\n', eigen_vals,'\\n')\n",
    "print('Eigen vectors\\n',eigen_vecs)"
   ]
  },
  {
   "cell_type": "code",
   "execution_count": 25,
   "id": "5fc3b940",
   "metadata": {},
   "outputs": [
    {
     "name": "stdout",
     "output_type": "stream",
     "text": [
      "getting SVD outputs: \n",
      "\n",
      "U\n",
      " [[ 0.3831556  -0.39279153  0.83600634]\n",
      " [ 0.68811254 -0.48239977 -0.54202545]\n",
      " [ 0.61619228  0.78294653  0.0854506 ]] \n",
      "\n",
      "S\n",
      " [12.10668383  6.91783499  1.25370079] \n",
      "\n",
      "VT\n",
      " [[ 0.36079164  0.55610321  0.74871798]\n",
      " [-0.10935467 -0.7720271   0.62611158]\n",
      " [-0.92621323  0.30777163  0.21772844]]\n"
     ]
    }
   ],
   "source": [
    "U,S,VT = np.linalg.svd(m)      #Singular Value Decomposision\n",
    "print('getting SVD outputs: \\n')\n",
    "print('U\\n',U,'\\n')\n",
    "print('S\\n',S,'\\n')\n",
    "print('VT\\n',VT)"
   ]
  },
  {
   "cell_type": "code",
   "execution_count": 29,
   "id": "553c9fac",
   "metadata": {},
   "outputs": [
    {
     "name": "stdout",
     "output_type": "stream",
     "text": [
      "[[0. 0. 0.]\n",
      " [0. 0. 0.]]\n"
     ]
    }
   ],
   "source": [
    "zeros_array = np.zeros((2,3)) \n",
    "print(zeros_array)"
   ]
  },
  {
   "cell_type": "code",
   "execution_count": 30,
   "id": "f231e30a",
   "metadata": {},
   "outputs": [
    {
     "name": "stdout",
     "output_type": "stream",
     "text": [
      "[[1. 1. 1.]\n",
      " [1. 1. 1.]]\n"
     ]
    }
   ],
   "source": [
    "print(np.ones((2,3)))"
   ]
  },
  {
   "cell_type": "code",
   "execution_count": 67,
   "id": "4acf2bba",
   "metadata": {},
   "outputs": [],
   "source": [
    "#Descriptive Statistic\n",
    "import scipy as sp\n",
    "import numpy as np\n"
   ]
  },
  {
   "cell_type": "code",
   "execution_count": 68,
   "id": "0195b230",
   "metadata": {},
   "outputs": [
    {
     "name": "stdout",
     "output_type": "stream",
     "text": [
      "Data :  [ 2  9  2 13  9 10 13  8  2  2  2  9  3  8  4]\n"
     ]
    }
   ],
   "source": [
    "#get data\n",
    "nums  = np.random.randint(1,20,size = (1,15))[0]\n",
    "print('Data : ',nums)"
   ]
  },
  {
   "cell_type": "code",
   "execution_count": 69,
   "id": "565b1b65",
   "metadata": {},
   "outputs": [
    {
     "name": "stdout",
     "output_type": "stream",
     "text": [
      "Mean : 6.4\n",
      "Median : 8.0\n",
      "Mode : 2\n",
      "Standerd deviation : 3.9966652766191633\n",
      "Variance : 15.973333333333334\n",
      "Skew : 0.21253110631769018\n",
      "Kurtosis : -1.3920487958506247\n"
     ]
    }
   ],
   "source": [
    "#get descriptive stats\n",
    "import statistics as s\n",
    "print('Mean :',np.mean(nums))\n",
    "print('Median :',np.median(nums))\n",
    "print('Mode :',s.mode(nums))\n",
    "print('Standerd deviation :',np.std(nums))\n",
    "print('Variance :',np.var(nums))\n",
    "print('Skew :',sp.stats.skew(nums))\n",
    "print('Kurtosis :', sp.stats.kurtosis(nums))"
   ]
  },
  {
   "cell_type": "code",
   "execution_count": 66,
   "id": "d5397cd4",
   "metadata": {},
   "outputs": [
    {
     "name": "stdout",
     "output_type": "stream",
     "text": [
      "Skewness of the data: 0.0\n"
     ]
    }
   ],
   "source": [
    "from scipy.stats import skew\n",
    "import numpy as np\n",
    "\n",
    "# Example data\n",
    "data = [2, 8, 0, 4, 1, 9, 6, 3, 5, 7]\n",
    "\n",
    "# Calculate skewness\n",
    "skewness = skew(data)\n",
    "\n",
    "print(f\"Skewness of the data: {skewness}\")\n"
   ]
  },
  {
   "cell_type": "code",
   "execution_count": 72,
   "id": "2d747a69",
   "metadata": {},
   "outputs": [
    {
     "name": "stdout",
     "output_type": "stream",
     "text": [
      "1.9.1\n"
     ]
    }
   ],
   "source": [
    "import scipy\n",
    "print(scipy.__version__)"
   ]
  },
  {
   "cell_type": "code",
   "execution_count": 2,
   "id": "994824d5",
   "metadata": {},
   "outputs": [
    {
     "name": "stdout",
     "output_type": "stream",
     "text": [
      "Random numbers divisible by 5: [825, 905, 720]\n"
     ]
    }
   ],
   "source": [
    "#write a code to generate 3 random int between 100 - 999 which is divisible by 5\n",
    "import random\n",
    "\n",
    "numbers = random.sample(range(100, 1000, 5), 3)\n",
    "print(\"Random numbers divisible by 5:\", numbers)"
   ]
  },
  {
   "cell_type": "code",
   "execution_count": 4,
   "id": "6fbf8de9",
   "metadata": {},
   "outputs": [
    {
     "name": "stdout",
     "output_type": "stream",
     "text": [
      "100 Unique Lottery Tickets:\n",
      "Ticket 1: 3350059008\n",
      "Ticket 2: 3875672074\n",
      "Ticket 3: 3343410710\n",
      "Ticket 4: 8965163545\n",
      "Ticket 5: 5491171867\n",
      "Ticket 6: 6524796959\n",
      "Ticket 7: 9157598252\n",
      "Ticket 8: 7904082989\n",
      "Ticket 9: 4428524081\n",
      "Ticket 10: 3071358520\n",
      "Ticket 11: 6068194364\n",
      "Ticket 12: 4886664789\n",
      "Ticket 13: 8367651416\n",
      "Ticket 14: 2673681501\n",
      "Ticket 15: 2699855975\n",
      "Ticket 16: 4607753328\n",
      "Ticket 17: 6670341234\n",
      "Ticket 18: 6948311667\n",
      "Ticket 19: 7820925046\n",
      "Ticket 20: 7368763514\n",
      "Ticket 21: 9533325951\n",
      "Ticket 22: 3268924038\n",
      "Ticket 23: 1744959113\n",
      "Ticket 24: 9357801100\n",
      "Ticket 25: 6834924695\n",
      "Ticket 26: 7779921570\n",
      "Ticket 27: 6214746276\n",
      "Ticket 28: 1350494374\n",
      "Ticket 29: 3556703913\n",
      "Ticket 30: 9254035115\n",
      "Ticket 31: 3935199403\n",
      "Ticket 32: 7128148141\n",
      "Ticket 33: 9266753709\n",
      "Ticket 34: 9856689329\n",
      "Ticket 35: 9756321975\n",
      "Ticket 36: 7624590537\n",
      "Ticket 37: 8225224403\n",
      "Ticket 38: 8389390049\n",
      "Ticket 39: 8797620458\n",
      "Ticket 40: 5668609770\n",
      "Ticket 41: 6241794796\n",
      "Ticket 42: 9160388332\n",
      "Ticket 43: 6214618866\n",
      "Ticket 44: 2975678196\n",
      "Ticket 45: 7820160245\n",
      "Ticket 46: 2629496582\n",
      "Ticket 47: 1241225485\n",
      "Ticket 48: 7836399373\n",
      "Ticket 49: 4923225872\n",
      "Ticket 50: 3384955666\n",
      "Ticket 51: 6396565781\n",
      "Ticket 52: 6168835867\n",
      "Ticket 53: 7665411356\n",
      "Ticket 54: 4422360860\n",
      "Ticket 55: 1024995102\n",
      "Ticket 56: 6981560605\n",
      "Ticket 57: 1868699425\n",
      "Ticket 58: 6489894693\n",
      "Ticket 59: 9080248613\n",
      "Ticket 60: 2489825588\n",
      "Ticket 61: 8499314485\n",
      "Ticket 62: 7669169462\n",
      "Ticket 63: 7357748023\n",
      "Ticket 64: 5174849344\n",
      "Ticket 65: 8528464718\n",
      "Ticket 66: 1452856672\n",
      "Ticket 67: 2421933409\n",
      "Ticket 68: 2225360739\n",
      "Ticket 69: 9493118820\n",
      "Ticket 70: 8070760805\n",
      "Ticket 71: 5760531812\n",
      "Ticket 72: 2247809387\n",
      "Ticket 73: 9238777210\n",
      "Ticket 74: 5770484093\n",
      "Ticket 75: 5580466057\n",
      "Ticket 76: 5837553036\n",
      "Ticket 77: 7234289050\n",
      "Ticket 78: 2372551070\n",
      "Ticket 79: 3380899236\n",
      "Ticket 80: 7410012582\n",
      "Ticket 81: 7043769256\n",
      "Ticket 82: 7020061105\n",
      "Ticket 83: 5703987635\n",
      "Ticket 84: 2369195958\n",
      "Ticket 85: 8418575806\n",
      "Ticket 86: 3234744767\n",
      "Ticket 87: 8196174279\n",
      "Ticket 88: 7736889800\n",
      "Ticket 89: 7462846415\n",
      "Ticket 90: 5664069073\n",
      "Ticket 91: 2607171025\n",
      "Ticket 92: 6643989971\n",
      "Ticket 93: 7951190485\n",
      "Ticket 94: 8061677022\n",
      "Ticket 95: 6959878110\n",
      "Ticket 96: 6588332517\n",
      "Ticket 97: 6964143087\n",
      "Ticket 98: 5704901104\n",
      "Ticket 99: 6884361719\n",
      "Ticket 100: 9191003646\n",
      "\n",
      "Lucky Tickets: [7669169462, 7234289050]\n"
     ]
    }
   ],
   "source": [
    "#write a code to generate 100 random lottery tickets and pick 2 lucky from it,\n",
    "#10 dig lottery number\n",
    "#100 ticket number must be unique\n",
    "import random\n",
    "\n",
    "# Generate 100 unique 10-digit lottery tickets\n",
    "tickets = set()\n",
    "while len(tickets) < 100:\n",
    "    ticket = random.randint(10**9, 10**10 - 1)  # ensures 10-digit number\n",
    "    tickets.add(ticket)\n",
    "\n",
    "tickets = list(tickets)  # convert set to list\n",
    "\n",
    "# Pick 2 lucky tickets\n",
    "lucky_tickets = random.sample(tickets, 2)\n",
    "\n",
    "print(\"100 Unique Lottery Tickets:\")\n",
    "for i, t in enumerate(tickets, 1):\n",
    "    print(f\"Ticket {i}: {t}\")\n",
    "\n",
    "print(\"\\nLucky Tickets:\", lucky_tickets)\n"
   ]
  },
  {
   "cell_type": "code",
   "execution_count": 6,
   "id": "b886a320",
   "metadata": {},
   "outputs": [
    {
     "name": "stdout",
     "output_type": "stream",
     "text": [
      "Generated Password: 8vT2j]3b3Y\n"
     ]
    }
   ],
   "source": [
    "#Generate random password, meet folowing conditions\n",
    "\n",
    "#pwd len = 10\n",
    "#it contain 2 upper case letter , 1 dig , 1 special symbol\n",
    "import random\n",
    "import string\n",
    "\n",
    "def generate_password():\n",
    "    # Required components\n",
    "    uppercase = random.sample(string.ascii_uppercase, 2)   # 2 uppercase letters\n",
    "    digit = random.choice(string.digits)                   # 1 digit\n",
    "    symbol = random.choice(\"!@#$%^&*()_+-=[]{}|;:,.<>?/\")  # 1 special symbol\n",
    "\n",
    "    # Remaining characters (10 - 4 = 6 chars left, can be lowercase/anything)\n",
    "    remaining = random.choices(string.ascii_lowercase + string.digits, k=6)\n",
    "\n",
    "    # Combine all parts\n",
    "    password_list = uppercase + [digit] + [symbol] + remaining\n",
    "    random.shuffle(password_list)  # Shuffle to avoid predictable order\n",
    "\n",
    "    return \"\".join(password_list)\n",
    "\n",
    "# Generate and print password\n",
    "print(\"Generated Password:\", generate_password())\n"
   ]
  },
  {
   "cell_type": "code",
   "execution_count": null,
   "id": "42d492dd-3c17-4ff0-a27c-992eb771266f",
   "metadata": {},
   "outputs": [],
   "source": []
  }
 ],
 "metadata": {
  "kernelspec": {
   "display_name": "Python 3 (ipykernel)",
   "language": "python",
   "name": "python3"
  },
  "language_info": {
   "codemirror_mode": {
    "name": "ipython",
    "version": 3
   },
   "file_extension": ".py",
   "mimetype": "text/x-python",
   "name": "python",
   "nbconvert_exporter": "python",
   "pygments_lexer": "ipython3",
   "version": "3.12.7"
  }
 },
 "nbformat": 4,
 "nbformat_minor": 5
}
